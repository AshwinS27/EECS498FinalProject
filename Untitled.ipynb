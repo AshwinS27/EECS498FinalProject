{
 "cells": [
  {
   "cell_type": "code",
   "execution_count": 1,
   "metadata": {},
   "outputs": [],
   "source": [
    "from queue import PriorityQueue\n",
    "import numpy as np"
   ]
  },
  {
   "cell_type": "code",
   "execution_count": 2,
   "metadata": {},
   "outputs": [],
   "source": [
    "class Node:\n",
    "    def __init__(self, state, id_in):\n",
    "        self.x = state[0]\n",
    "        self.y = state[1]\n",
    "        self.id = id_in\n",
    "    \n",
    "    def __str__(self):\n",
    "        return str(self.id)\n",
    "        \n",
    "    def __gt__(self, other):\n",
    "        if self.x == other.x:\n",
    "            return self.y > other.y\n",
    "        else:\n",
    "            return self.x > other.x\n",
    "    \n",
    "    def __lt__(self, other):\n",
    "        if self.x == other.x:\n",
    "            return self.y < other.y\n",
    "        return self.x < other.x\n",
    "        \n",
    "    def __eq__(self, other):\n",
    "        if self.id == other.id:\n",
    "            return True\n",
    "        return False\n",
    "    \n",
    "    def __ge__(self, other):\n",
    "        if self.x == other.x:\n",
    "            return self.y <= other.y\n",
    "        return self.x <= other.x\n",
    "    \n",
    "    def __le__(self, other):\n",
    "        if self.x == other.x:\n",
    "            return self.y >= other.y\n",
    "        return self.x >= other.x"
   ]
  },
  {
   "cell_type": "code",
   "execution_count": 3,
   "metadata": {},
   "outputs": [],
   "source": [
    "import heapq\n",
    "\n",
    "class CustomPQ(object):\n",
    "    def __init__(self):\n",
    "        self.queue = []\n",
    "        heapq.heapify(self.queue)\n",
    "\n",
    "    def __str__(self):\n",
    "        return ' '.join([str(i) for i in self.queue])\n",
    "\n",
    "    # for checking if the queue is empty\n",
    "    def isEmpty(self):\n",
    "        return len(self.queue) == 0\n",
    "\n",
    "    # for inserting an element in the queue\n",
    "    def put(self, data):\n",
    "        heapq.heappush(self.queue, data)\n",
    "\n",
    "    # for popping an element based on Priority\n",
    "    def pop(self):\n",
    "        heapq.heappop(self.queue)\n",
    "    \n",
    "    def get(self):\n",
    "        return heapq.heappop(self.queue)\n",
    "\n",
    "    def qsize(self):\n",
    "        return len(self.queue)"
   ]
  },
  {
   "cell_type": "code",
   "execution_count": 4,
   "metadata": {},
   "outputs": [],
   "source": [
    "pq = CustomPQ()\n",
    "nodeList = []"
   ]
  },
  {
   "cell_type": "code",
   "execution_count": 5,
   "metadata": {},
   "outputs": [],
   "source": [
    "nodeList.append(Node([1, 1], 1))\n",
    "nodeList.append(Node([2, 2], 2))\n",
    "nodeList.append(Node([3, 5], 3))"
   ]
  },
  {
   "cell_type": "code",
   "execution_count": 6,
   "metadata": {},
   "outputs": [],
   "source": [
    "for node in nodeList:\n",
    "    pq.put(node)"
   ]
  },
  {
   "cell_type": "code",
   "execution_count": 7,
   "metadata": {},
   "outputs": [
    {
     "name": "stdout",
     "output_type": "stream",
     "text": [
      "1\n",
      "2\n",
      "3\n"
     ]
    }
   ],
   "source": [
    "for i in range(0, pq.qsize()):\n",
    "    # should be in order of 1, 2, 3\n",
    "    print(pq.get())"
   ]
  },
  {
   "cell_type": "code",
   "execution_count": null,
   "metadata": {},
   "outputs": [],
   "source": []
  },
  {
   "cell_type": "code",
   "execution_count": null,
   "metadata": {},
   "outputs": [],
   "source": []
  }
 ],
 "metadata": {
  "kernelspec": {
   "display_name": "Python 3",
   "language": "python",
   "name": "python3"
  },
  "language_info": {
   "codemirror_mode": {
    "name": "ipython",
    "version": 3
   },
   "file_extension": ".py",
   "mimetype": "text/x-python",
   "name": "python",
   "nbconvert_exporter": "python",
   "pygments_lexer": "ipython3",
   "version": "3.8.10"
  }
 },
 "nbformat": 4,
 "nbformat_minor": 4
}
